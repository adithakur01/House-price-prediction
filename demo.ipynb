{
 "cells": [
  {
   "cell_type": "code",
   "execution_count": 1,
   "id": "e45bd7b7",
   "metadata": {},
   "outputs": [],
   "source": [
    "#importing libraries\n",
    "import pandas as pd\n",
    "import numpy as np\n",
    "import matplotlib.pyplot as plt\n",
    "import seaborn as sns "
   ]
  },
  {
   "cell_type": "code",
   "execution_count": 2,
   "id": "fc22d813",
   "metadata": {},
   "outputs": [],
   "source": [
    "#loading dataset \n",
    "data = pd.read_csv(\"dataset/Housing.csv\")"
   ]
  },
  {
   "cell_type": "code",
   "execution_count": 3,
   "id": "ee75cc0b",
   "metadata": {},
   "outputs": [
    {
     "data": {
      "text/html": [
       "<div>\n",
       "<style scoped>\n",
       "    .dataframe tbody tr th:only-of-type {\n",
       "        vertical-align: middle;\n",
       "    }\n",
       "\n",
       "    .dataframe tbody tr th {\n",
       "        vertical-align: top;\n",
       "    }\n",
       "\n",
       "    .dataframe thead th {\n",
       "        text-align: right;\n",
       "    }\n",
       "</style>\n",
       "<table border=\"1\" class=\"dataframe\">\n",
       "  <thead>\n",
       "    <tr style=\"text-align: right;\">\n",
       "      <th></th>\n",
       "      <th>price</th>\n",
       "      <th>area</th>\n",
       "      <th>bedrooms</th>\n",
       "      <th>bathrooms</th>\n",
       "      <th>stories</th>\n",
       "      <th>mainroad</th>\n",
       "      <th>guestroom</th>\n",
       "      <th>basement</th>\n",
       "      <th>hotwaterheating</th>\n",
       "      <th>airconditioning</th>\n",
       "      <th>parking</th>\n",
       "      <th>prefarea</th>\n",
       "      <th>furnishingstatus</th>\n",
       "    </tr>\n",
       "  </thead>\n",
       "  <tbody>\n",
       "    <tr>\n",
       "      <th>0</th>\n",
       "      <td>13300000</td>\n",
       "      <td>7420</td>\n",
       "      <td>4</td>\n",
       "      <td>2</td>\n",
       "      <td>3</td>\n",
       "      <td>yes</td>\n",
       "      <td>no</td>\n",
       "      <td>no</td>\n",
       "      <td>no</td>\n",
       "      <td>yes</td>\n",
       "      <td>2</td>\n",
       "      <td>yes</td>\n",
       "      <td>furnished</td>\n",
       "    </tr>\n",
       "    <tr>\n",
       "      <th>1</th>\n",
       "      <td>12250000</td>\n",
       "      <td>8960</td>\n",
       "      <td>4</td>\n",
       "      <td>4</td>\n",
       "      <td>4</td>\n",
       "      <td>yes</td>\n",
       "      <td>no</td>\n",
       "      <td>no</td>\n",
       "      <td>no</td>\n",
       "      <td>yes</td>\n",
       "      <td>3</td>\n",
       "      <td>no</td>\n",
       "      <td>furnished</td>\n",
       "    </tr>\n",
       "    <tr>\n",
       "      <th>2</th>\n",
       "      <td>12250000</td>\n",
       "      <td>9960</td>\n",
       "      <td>3</td>\n",
       "      <td>2</td>\n",
       "      <td>2</td>\n",
       "      <td>yes</td>\n",
       "      <td>no</td>\n",
       "      <td>yes</td>\n",
       "      <td>no</td>\n",
       "      <td>no</td>\n",
       "      <td>2</td>\n",
       "      <td>yes</td>\n",
       "      <td>semi-furnished</td>\n",
       "    </tr>\n",
       "    <tr>\n",
       "      <th>3</th>\n",
       "      <td>12215000</td>\n",
       "      <td>7500</td>\n",
       "      <td>4</td>\n",
       "      <td>2</td>\n",
       "      <td>2</td>\n",
       "      <td>yes</td>\n",
       "      <td>no</td>\n",
       "      <td>yes</td>\n",
       "      <td>no</td>\n",
       "      <td>yes</td>\n",
       "      <td>3</td>\n",
       "      <td>yes</td>\n",
       "      <td>furnished</td>\n",
       "    </tr>\n",
       "    <tr>\n",
       "      <th>4</th>\n",
       "      <td>11410000</td>\n",
       "      <td>7420</td>\n",
       "      <td>4</td>\n",
       "      <td>1</td>\n",
       "      <td>2</td>\n",
       "      <td>yes</td>\n",
       "      <td>yes</td>\n",
       "      <td>yes</td>\n",
       "      <td>no</td>\n",
       "      <td>yes</td>\n",
       "      <td>2</td>\n",
       "      <td>no</td>\n",
       "      <td>furnished</td>\n",
       "    </tr>\n",
       "  </tbody>\n",
       "</table>\n",
       "</div>"
      ],
      "text/plain": [
       "      price  area  bedrooms  bathrooms  stories mainroad guestroom basement  \\\n",
       "0  13300000  7420         4          2        3      yes        no       no   \n",
       "1  12250000  8960         4          4        4      yes        no       no   \n",
       "2  12250000  9960         3          2        2      yes        no      yes   \n",
       "3  12215000  7500         4          2        2      yes        no      yes   \n",
       "4  11410000  7420         4          1        2      yes       yes      yes   \n",
       "\n",
       "  hotwaterheating airconditioning  parking prefarea furnishingstatus  \n",
       "0              no             yes        2      yes        furnished  \n",
       "1              no             yes        3       no        furnished  \n",
       "2              no              no        2      yes   semi-furnished  \n",
       "3              no             yes        3      yes        furnished  \n",
       "4              no             yes        2       no        furnished  "
      ]
     },
     "execution_count": 3,
     "metadata": {},
     "output_type": "execute_result"
    }
   ],
   "source": [
    "#print 5 values from the dataset\n",
    "data.head(5)"
   ]
  },
  {
   "cell_type": "code",
   "execution_count": 4,
   "id": "60f9d7f8",
   "metadata": {},
   "outputs": [
    {
     "data": {
      "text/plain": [
       "price               0\n",
       "area                0\n",
       "bedrooms            0\n",
       "bathrooms           0\n",
       "stories             0\n",
       "mainroad            0\n",
       "guestroom           0\n",
       "basement            0\n",
       "hotwaterheating     0\n",
       "airconditioning     0\n",
       "parking             0\n",
       "prefarea            0\n",
       "furnishingstatus    0\n",
       "dtype: int64"
      ]
     },
     "execution_count": 4,
     "metadata": {},
     "output_type": "execute_result"
    }
   ],
   "source": [
    "#checking null value in the dataset \n",
    "data.isnull().sum()"
   ]
  },
  {
   "cell_type": "code",
   "execution_count": 5,
   "id": "17634f8d",
   "metadata": {},
   "outputs": [
    {
     "data": {
      "text/plain": [
       "0      False\n",
       "1      False\n",
       "2      False\n",
       "3      False\n",
       "4      False\n",
       "       ...  \n",
       "540    False\n",
       "541    False\n",
       "542    False\n",
       "543    False\n",
       "544    False\n",
       "Length: 545, dtype: bool"
      ]
     },
     "execution_count": 5,
     "metadata": {},
     "output_type": "execute_result"
    }
   ],
   "source": [
    "#checking duplicate value in the dataset\n",
    "data.duplicated()"
   ]
  },
  {
   "cell_type": "code",
   "execution_count": 6,
   "id": "d4cca1e9",
   "metadata": {},
   "outputs": [
    {
     "name": "stdout",
     "output_type": "stream",
     "text": [
      "unique value in price are: [13300000 12250000 12215000 11410000 10850000 10150000  9870000  9800000\n",
      "  9681000  9310000  9240000  9100000  8960000  8890000  8855000  8750000\n",
      "  8680000  8645000  8575000  8540000  8463000  8400000  8295000  8190000\n",
      "  8120000  8080940  8043000  7980000  7962500  7910000  7875000  7840000\n",
      "  7700000  7560000  7525000  7490000  7455000  7420000  7350000  7343000\n",
      "  7245000  7210000  7140000  7070000  7035000  7000000  6930000  6895000\n",
      "  6860000  6790000  6755000  6720000  6685000  6650000  6629000  6615000\n",
      "  6580000  6510000  6475000  6440000  6419000  6405000  6300000  6293000\n",
      "  6265000  6230000  6195000  6160000  6125000  6107500  6090000  6083000\n",
      "  6020000  5950000  5943000  5880000  5873000  5866000  5810000  5803000\n",
      "  5775000  5740000  5652500  5600000  5565000  5530000  5523000  5495000\n",
      "  5460000  5425000  5390000  5383000  5320000  5285000  5250000  5243000\n",
      "  5229000  5215000  5145000  5110000  5075000  5040000  5033000  5005000\n",
      "  4970000  4956000  4935000  4907000  4900000  4893000  4865000  4830000\n",
      "  4795000  4767000  4760000  4753000  4690000  4655000  4620000  4613000\n",
      "  4585000  4550000  4543000  4515000  4480000  4473000  4445000  4410000\n",
      "  4403000  4382000  4375000  4340000  4319000  4305000  4277000  4270000\n",
      "  4235000  4200000  4193000  4165000  4130000  4123000  4098500  4095000\n",
      "  4060000  4025000  4007500  3990000  3920000  3885000  3850000  3836000\n",
      "  3815000  3780000  3773000  3745000  3710000  3703000  3675000  3640000\n",
      "  3633000  3605000  3570000  3535000  3500000  3493000  3465000  3430000\n",
      "  3423000  3395000  3360000  3353000  3332000  3325000  3290000  3255000\n",
      "  3234000  3220000  3150000  3143000  3129000  3118850  3115000  3087000\n",
      "  3080000  3045000  3010000  3003000  2975000  2961000  2940000  2870000\n",
      "  2852500  2835000  2800000  2730000  2695000  2660000  2653000  2604000\n",
      "  2590000  2520000  2485000  2450000  2408000  2380000  2345000  2310000\n",
      "  2275000  2240000  2233000  2135000  2100000  1960000  1890000  1855000\n",
      "  1820000  1767150  1750000]\n",
      "unique value in area are: [ 7420  8960  9960  7500  8580 16200  8100  5750 13200  6000  6550  3500\n",
      "  7800  6600  8500  4600  6420  4320  7155  8050  4560  8800  6540  8875\n",
      "  7950  5500  7475  7000  4880  5960  6840  7482  9000  6360  6480  4300\n",
      "  7440  6325  5150 11440  7680  8880  6240 11175  7700 12090  4000  5020\n",
      "  4040  4260  6500  5700 10500  3760  8250  6670  3960  7410  5000  6750\n",
      "  4800  7200  4100  6400  6350  4500  5450  3240  6615  8372  9620  6800\n",
      "  8000  6900  3700  7020  7231  6254  7320  6525 15600  7160 11460  5828\n",
      "  5200  5400  4640  5800  6660  4700  5136  4400  3300  3650  6100  2817\n",
      "  7980  3150  6210  6825  6710  6450 10269  8400  5300  3800  9800  8520\n",
      "  6050  7085  3180  3410  3000 11410  5720  3540  7600 10700  8150  4410\n",
      "  7686  2800  5948  4200  4520  4095  4120  4770  6300  2970  6720  4646\n",
      " 12900  3420  4995  4350  4160  6040  6862  4815  9166  6321 10240  6440\n",
      "  5170  3630  9667  3745  3880  5680  2870  5010  4510  3840  3640  2550\n",
      "  5320  5360  3520  4990  3510  3450  9860  5885  3162  3750  3968  4900\n",
      "  2880  4920  4950  3900  1905  4075  4032 10360  3400  2175  4360  7770\n",
      "  6650  2787  5040  5850  2610  2953  2747  2325  4079  2145  4840  4080\n",
      "  4046  4632  5985  6060  3600  3680  5600  5900  4992  4340  3460  4050\n",
      "  7260  3290  3816  8080  3780  7152  3850  2015  2176  3350  4820  5830\n",
      "  2856  2520  6930  3480  6020  3584  3120  5640  4280  3570  4130  2850\n",
      "  2275  4240  2135  3036  3990  7424  7350  3512  9500  5880 12944  3060\n",
      "  3185  1950  4785  4960  4750  3720  3100  2700  4775  2500  3792  3930\n",
      "  4370  2684  3986  1650  3069  5495  2398  2160  3090  2835  5076  4352\n",
      "  3660  3040  2640  2650  3934  2000  2430  2910  3210  3635  2475  3264\n",
      "  1836  3970  2400  3360  1700  3649  2990  3620]\n",
      "unique value in bedrooms are: [4 3 5 2 6 1]\n",
      "unique value in bathrooms are: [2 4 1 3]\n",
      "unique value in stories are: [3 4 2 1]\n",
      "unique value in mainroad are: ['yes' 'no']\n",
      "unique value in guestroom are: ['no' 'yes']\n",
      "unique value in basement are: ['no' 'yes']\n",
      "unique value in hotwaterheating are: ['no' 'yes']\n",
      "unique value in airconditioning are: ['yes' 'no']\n",
      "unique value in parking are: [2 3 0 1]\n",
      "unique value in prefarea are: ['yes' 'no']\n",
      "unique value in furnishingstatus are: ['furnished' 'semi-furnished' 'unfurnished']\n"
     ]
    }
   ],
   "source": [
    "#print all unique value in each column of the dataset\n",
    "for single_column in data.columns:\n",
    "    print(\"unique value in {} are: {}\".format(single_column,data[single_column].unique()))"
   ]
  },
  {
   "cell_type": "code",
   "execution_count": 7,
   "id": "6544ac71",
   "metadata": {},
   "outputs": [
    {
     "name": "stdout",
     "output_type": "stream",
     "text": [
      "Index(['mainroad', 'guestroom', 'basement', 'hotwaterheating',\n",
      "       'airconditioning', 'prefarea'],\n",
      "      dtype='object')\n"
     ]
    }
   ],
   "source": [
    "#print the name of columns which have values in the form of \"yes\" or \"no\"\n",
    "columns_name = data.columns[data.isin(['yes', 'no']).any()]\n",
    "print(columns_name)"
   ]
  },
  {
   "cell_type": "code",
   "execution_count": 8,
   "id": "2595da77",
   "metadata": {},
   "outputs": [
    {
     "name": "stderr",
     "output_type": "stream",
     "text": [
      "/tmp/ipykernel_1542/3009110116.py:3: FutureWarning: A value is trying to be set on a copy of a DataFrame or Series through chained assignment using an inplace method.\n",
      "The behavior will change in pandas 3.0. This inplace method will never work because the intermediate object on which we are setting values always behaves as a copy.\n",
      "\n",
      "For example, when doing 'df[col].method(value, inplace=True)', try using 'df.method({col: value}, inplace=True)' or df[col] = df[col].method(value) instead, to perform the operation inplace on the original object.\n",
      "\n",
      "\n",
      "  data[single_columns] = data[single_columns].replace({'yes': 1, 'no': 0},inplace=True)\n",
      "/tmp/ipykernel_1542/3009110116.py:3: FutureWarning: Downcasting behavior in `replace` is deprecated and will be removed in a future version. To retain the old behavior, explicitly call `result.infer_objects(copy=False)`. To opt-in to the future behavior, set `pd.set_option('future.no_silent_downcasting', True)`\n",
      "  data[single_columns] = data[single_columns].replace({'yes': 1, 'no': 0},inplace=True)\n"
     ]
    }
   ],
   "source": [
    "#converting \"yes\" or \"no\" values into \"0\" or \"1\"\n",
    "for single_columns in columns_name:\n",
    "    data[single_columns] = data[single_columns].replace({'yes': 1, 'no': 0},inplace=True)"
   ]
  },
  {
   "cell_type": "code",
   "execution_count": 9,
   "id": "f8fb886b",
   "metadata": {},
   "outputs": [
    {
     "name": "stderr",
     "output_type": "stream",
     "text": [
      "/tmp/ipykernel_1542/1393830693.py:2: FutureWarning: A value is trying to be set on a copy of a DataFrame or Series through chained assignment using an inplace method.\n",
      "The behavior will change in pandas 3.0. This inplace method will never work because the intermediate object on which we are setting values always behaves as a copy.\n",
      "\n",
      "For example, when doing 'df[col].method(value, inplace=True)', try using 'df.method({col: value}, inplace=True)' or df[col] = df[col].method(value) instead, to perform the operation inplace on the original object.\n",
      "\n",
      "\n",
      "  data['furnishingstatus'] = data['furnishingstatus'].replace({'furnished': 2,'semi-furnished': 1,'unfurnished': 0,},inplace=True)\n",
      "/tmp/ipykernel_1542/1393830693.py:2: FutureWarning: Downcasting behavior in `replace` is deprecated and will be removed in a future version. To retain the old behavior, explicitly call `result.infer_objects(copy=False)`. To opt-in to the future behavior, set `pd.set_option('future.no_silent_downcasting', True)`\n",
      "  data['furnishingstatus'] = data['furnishingstatus'].replace({'furnished': 2,'semi-furnished': 1,'unfurnished': 0,},inplace=True)\n"
     ]
    }
   ],
   "source": [
    "# convert string vlaue in \"furnishingstatus\" column in numerical \"0\", \"1\", \"2\"\n",
    "data['furnishingstatus'] = data['furnishingstatus'].replace({'furnished': 2,'semi-furnished': 1,'unfurnished': 0,},inplace=True)"
   ]
  },
  {
   "cell_type": "code",
   "execution_count": 10,
   "id": "e5de667a",
   "metadata": {},
   "outputs": [
    {
     "data": {
      "text/html": [
       "<div>\n",
       "<style scoped>\n",
       "    .dataframe tbody tr th:only-of-type {\n",
       "        vertical-align: middle;\n",
       "    }\n",
       "\n",
       "    .dataframe tbody tr th {\n",
       "        vertical-align: top;\n",
       "    }\n",
       "\n",
       "    .dataframe thead th {\n",
       "        text-align: right;\n",
       "    }\n",
       "</style>\n",
       "<table border=\"1\" class=\"dataframe\">\n",
       "  <thead>\n",
       "    <tr style=\"text-align: right;\">\n",
       "      <th></th>\n",
       "      <th>price</th>\n",
       "      <th>area</th>\n",
       "      <th>bedrooms</th>\n",
       "      <th>bathrooms</th>\n",
       "      <th>stories</th>\n",
       "      <th>mainroad</th>\n",
       "      <th>guestroom</th>\n",
       "      <th>basement</th>\n",
       "      <th>hotwaterheating</th>\n",
       "      <th>airconditioning</th>\n",
       "      <th>parking</th>\n",
       "      <th>prefarea</th>\n",
       "      <th>furnishingstatus</th>\n",
       "    </tr>\n",
       "  </thead>\n",
       "  <tbody>\n",
       "    <tr>\n",
       "      <th>0</th>\n",
       "      <td>13300000</td>\n",
       "      <td>7420</td>\n",
       "      <td>4</td>\n",
       "      <td>2</td>\n",
       "      <td>3</td>\n",
       "      <td>None</td>\n",
       "      <td>None</td>\n",
       "      <td>None</td>\n",
       "      <td>None</td>\n",
       "      <td>None</td>\n",
       "      <td>2</td>\n",
       "      <td>None</td>\n",
       "      <td>None</td>\n",
       "    </tr>\n",
       "    <tr>\n",
       "      <th>1</th>\n",
       "      <td>12250000</td>\n",
       "      <td>8960</td>\n",
       "      <td>4</td>\n",
       "      <td>4</td>\n",
       "      <td>4</td>\n",
       "      <td>None</td>\n",
       "      <td>None</td>\n",
       "      <td>None</td>\n",
       "      <td>None</td>\n",
       "      <td>None</td>\n",
       "      <td>3</td>\n",
       "      <td>None</td>\n",
       "      <td>None</td>\n",
       "    </tr>\n",
       "    <tr>\n",
       "      <th>2</th>\n",
       "      <td>12250000</td>\n",
       "      <td>9960</td>\n",
       "      <td>3</td>\n",
       "      <td>2</td>\n",
       "      <td>2</td>\n",
       "      <td>None</td>\n",
       "      <td>None</td>\n",
       "      <td>None</td>\n",
       "      <td>None</td>\n",
       "      <td>None</td>\n",
       "      <td>2</td>\n",
       "      <td>None</td>\n",
       "      <td>None</td>\n",
       "    </tr>\n",
       "    <tr>\n",
       "      <th>3</th>\n",
       "      <td>12215000</td>\n",
       "      <td>7500</td>\n",
       "      <td>4</td>\n",
       "      <td>2</td>\n",
       "      <td>2</td>\n",
       "      <td>None</td>\n",
       "      <td>None</td>\n",
       "      <td>None</td>\n",
       "      <td>None</td>\n",
       "      <td>None</td>\n",
       "      <td>3</td>\n",
       "      <td>None</td>\n",
       "      <td>None</td>\n",
       "    </tr>\n",
       "    <tr>\n",
       "      <th>4</th>\n",
       "      <td>11410000</td>\n",
       "      <td>7420</td>\n",
       "      <td>4</td>\n",
       "      <td>1</td>\n",
       "      <td>2</td>\n",
       "      <td>None</td>\n",
       "      <td>None</td>\n",
       "      <td>None</td>\n",
       "      <td>None</td>\n",
       "      <td>None</td>\n",
       "      <td>2</td>\n",
       "      <td>None</td>\n",
       "      <td>None</td>\n",
       "    </tr>\n",
       "  </tbody>\n",
       "</table>\n",
       "</div>"
      ],
      "text/plain": [
       "      price  area  bedrooms  bathrooms  stories mainroad guestroom basement  \\\n",
       "0  13300000  7420         4          2        3     None      None     None   \n",
       "1  12250000  8960         4          4        4     None      None     None   \n",
       "2  12250000  9960         3          2        2     None      None     None   \n",
       "3  12215000  7500         4          2        2     None      None     None   \n",
       "4  11410000  7420         4          1        2     None      None     None   \n",
       "\n",
       "  hotwaterheating airconditioning  parking prefarea furnishingstatus  \n",
       "0            None            None        2     None             None  \n",
       "1            None            None        3     None             None  \n",
       "2            None            None        2     None             None  \n",
       "3            None            None        3     None             None  \n",
       "4            None            None        2     None             None  "
      ]
     },
     "execution_count": 10,
     "metadata": {},
     "output_type": "execute_result"
    }
   ],
   "source": [
    "data.head(5)"
   ]
  },
  {
   "cell_type": "code",
   "execution_count": 11,
   "id": "6b304843",
   "metadata": {},
   "outputs": [],
   "source": [
    "#copying data to safe the real data\n",
    "copied_data = data.copy()"
   ]
  },
  {
   "cell_type": "code",
   "execution_count": 12,
   "id": "42f67ca4",
   "metadata": {},
   "outputs": [],
   "source": [
    "mean_value = copied_data.mean() #calculate mean of copied data\n",
    "standard_deviation = copied_data.std() #claculate standard_deviation of copied data"
   ]
  },
  {
   "cell_type": "code",
   "execution_count": 13,
   "id": "0a7714b0",
   "metadata": {},
   "outputs": [
    {
     "name": "stdout",
     "output_type": "stream",
     "text": [
      "        price      area  bedrooms bathrooms   stories mainroad guestroom  \\\n",
      "0    4.562174  1.045766  1.402131  1.420507  1.376952      NaN       NaN   \n",
      "1    4.000809  1.755397  1.402131  5.400847    2.5297      NaN       NaN   \n",
      "2    4.000809  2.216196  0.047235  1.420507  0.224204      NaN       NaN   \n",
      "3    3.982096   1.08263  1.402131  1.420507  0.224204      NaN       NaN   \n",
      "4    3.551716  1.045766  1.402131 -0.569663  0.224204      NaN       NaN   \n",
      "..        ...       ...       ...       ...       ...      ...       ...   \n",
      "540 -1.575421 -0.990968 -1.307661 -0.569663 -0.928544      NaN       NaN   \n",
      "541 -1.603676 -1.267448  0.047235 -0.569663 -0.928544      NaN       NaN   \n",
      "542 -1.612845 -0.705273 -1.307661 -0.569663 -0.928544      NaN       NaN   \n",
      "543 -1.612845  -1.03244  0.047235 -0.569663 -0.928544      NaN       NaN   \n",
      "544 -1.612845 -0.599289  0.047235 -0.569663  0.224204      NaN       NaN   \n",
      "\n",
      "    basement hotwaterheating airconditioning   parking prefarea  \\\n",
      "0        NaN             NaN             NaN  1.516299      NaN   \n",
      "1        NaN             NaN             NaN   2.67695      NaN   \n",
      "2        NaN             NaN             NaN  1.516299      NaN   \n",
      "3        NaN             NaN             NaN   2.67695      NaN   \n",
      "4        NaN             NaN             NaN  1.516299      NaN   \n",
      "..       ...             ...             ...       ...      ...   \n",
      "540      NaN             NaN             NaN  1.516299      NaN   \n",
      "541      NaN             NaN             NaN -0.805002      NaN   \n",
      "542      NaN             NaN             NaN -0.805002      NaN   \n",
      "543      NaN             NaN             NaN -0.805002      NaN   \n",
      "544      NaN             NaN             NaN -0.805002      NaN   \n",
      "\n",
      "    furnishingstatus  \n",
      "0                NaN  \n",
      "1                NaN  \n",
      "2                NaN  \n",
      "3                NaN  \n",
      "4                NaN  \n",
      "..               ...  \n",
      "540              NaN  \n",
      "541              NaN  \n",
      "542              NaN  \n",
      "543              NaN  \n",
      "544              NaN  \n",
      "\n",
      "[545 rows x 13 columns]\n"
     ]
    }
   ],
   "source": [
    "# Z_score formula = z = (data - mean value of data) / standard_deviation value of data\n",
    "# claculate Z_score for each column\n",
    "z_score = (copied_data - mean_value) / standard_deviation\n",
    "print(z_score)"
   ]
  },
  {
   "cell_type": "code",
   "execution_count": 14,
   "id": "4be44bd3",
   "metadata": {},
   "outputs": [
    {
     "name": "stdout",
     "output_type": "stream",
     "text": [
      "Percentage of values within [-1.96, 1.96] for each column:\n",
      "bathrooms           97.98\n",
      "parking             97.80\n",
      "bedrooms            97.43\n",
      "area                95.60\n",
      "price               95.05\n",
      "stories             92.48\n",
      "mainroad             0.00\n",
      "basement             0.00\n",
      "guestroom            0.00\n",
      "hotwaterheating      0.00\n",
      "airconditioning      0.00\n",
      "prefarea             0.00\n",
      "furnishingstatus     0.00\n",
      "dtype: float64\n"
     ]
    }
   ],
   "source": [
    "# critical range lies between \"-1.96\" to \"+1.96\" \n",
    "\n",
    "#checking Z_score value lies between critical_range to check outlier\n",
    "critical_range = ((z_score >= -1.96) & (z_score <= 1.96))\n",
    "\n",
    "#convert checking values into percentage \n",
    "percentage = critical_range.mean() * 100\n",
    "print(\"Percentage of values within [-1.96, 1.96] for each column:\")\n",
    "\n",
    "#print percentage value in ascending\n",
    "print(percentage.sort_values(ascending=False).round(2))"
   ]
  },
  {
   "cell_type": "markdown",
   "id": "04cc368a",
   "metadata": {},
   "source": [
    "### *`Z-Score Outlier Table Explained`*\n",
    "\n",
    "1. **`basement` – 100% within range**\n",
    "   → All values are within the normal Z-score range. No outliers detected.\n",
    "\n",
    "2. **`airconditioning` – 100% within range**\n",
    "   → Data is consistent. Every entry falls within expected boundaries.\n",
    "\n",
    "3. **`prefarea` – 100% within range**\n",
    "   → No unusual variation. Perfectly distributed data.\n",
    "\n",
    "4. **`furnishingstatus` – 100% within range**\n",
    "   → Uniform data distribution. No signs of outliers.\n",
    "\n",
    "5. **`bathrooms` – 97.98% within range**\n",
    "   → A small number of outliers (\\~2%), possibly due to homes with more/fewer bathrooms than average.\n",
    "\n",
    "6. **`parking` – 97.80% within range**\n",
    "   → A few homes have more or fewer parking spaces than most, but still acceptable.\n",
    "\n",
    "7. **`bedrooms` – 97.43% within range**\n",
    "   → Slight deviation, indicating rare cases like unusually large or small homes.\n",
    "\n",
    "8. **`area` – 95.60% within range**\n",
    "   → Some outliers, likely due to significantly large property areas.\n",
    "\n",
    "9. **`hotwaterheating` – 95.41% within range**\n",
    "   → Few entries deviate from the norm, but not concerning.\n",
    "\n",
    "10. **`price` – 95.05% within range**\n",
    "    → A few high or low-priced houses are considered outliers but may still be valid.\n",
    "\n",
    "11. **`stories` – 92.48% within range**\n",
    "    → Moderate variation in the number of floors; some buildings have uncommon story counts.\n",
    "\n",
    "12. **`mainroad` – 85.87% within range**\n",
    "    → Slightly higher number of outliers; could reflect unusual access types.\n",
    "\n",
    "13. **`guestroom` – 82.20% within range**\n",
    "    → Highest outlier rate (\\~18%). Might indicate that most homes either have or lack guest rooms, making the minority appear as outliers.\n",
    "\n",
    "### *`Why Outlier Removal or Replace Is Not Needed`*\n",
    "\n",
    "* Most columns have **95%+ values within the normal Z-score range**, showing data is largely well-behaved.\n",
    "* Columns with slightly more outliers (e.g., `guestroom`, `mainroad`, `stories`) represent **real-world categorical or rare conditions**, not data errors.\n",
    "* Outliers reflect **genuine property diversity** (e.g., large area, extra stories, premium price).\n",
    "* Removing them could lead to **loss of important variation** and **reduced model performance**."
   ]
  },
  {
   "cell_type": "code",
   "execution_count": 15,
   "id": "926488c3",
   "metadata": {},
   "outputs": [],
   "source": [
    "sns.set(style=\"whitegrid\")"
   ]
  },
  {
   "cell_type": "code",
   "execution_count": 16,
   "id": "66434d9c",
   "metadata": {},
   "outputs": [
    {
     "data": {
      "image/png": "[encoded data removed]",
      "text/plain": [
       "<Figure size 1000x800 with 2 Axes>"
      ]
     },
     "metadata": {},
     "output_type": "display_data"
    }
   ],
   "source": [
    "#ploting pearson correlation matrix heatmap\n",
    "data_corr = data.corr(numeric_only=True)\n",
    "plt.figure(figsize=(10, 8))\n",
    "sns.heatmap(data_corr, annot=True, cmap=\"coolwarm\", linewidths=0.5)\n",
    "plt.title(\"correlation heatmap\")\n",
    "plt.tight_layout()\n",
    "plt.show()"
   ]
  },
  {
   "cell_type": "markdown",
   "id": "112d8b26",
   "metadata": {},
   "source": [
    "### *`Correlation Heatmap`*\n",
    "\n",
    "* `Area`, `bathrooms`, `bedrooms`, and `stories` have the strongest positive correlation with price.\n",
    "\n",
    "* Features like `hotwaterheating` show a slight negative correlation, suggesting they don’t contribute much to pricing.\n",
    "\n",
    "* `Furnishing status` has a low to moderate correlation (~0.30), but it still holds some influence.\n",
    "\n",
    "* This heatmap helps us understand which features might be more useful in predictive modeling."
   ]
  },
  {
   "cell_type": "code",
   "execution_count": 17,
   "id": "6afed9ff",
   "metadata": {},
   "outputs": [
    {
     "name": "stdout",
     "output_type": "stream",
     "text": [
      "selected columns from correlation heatmap:\n",
      "Index(['stories', 'parking', 'bedrooms', 'bathrooms', 'area'], dtype='object')\n"
     ]
    }
   ],
   "source": [
    "#print column name which has vlaue more than 0.3 in correlation matrix excluding price \n",
    "target_corr = data_corr['price'].drop('price')\n",
    "selected = target_corr[(target_corr) > 0.30].index\n",
    "print(\"selected columns from correlation heatmap:\")\n",
    "print(selected.sort_values(ascending=False))"
   ]
  },
  {
   "cell_type": "code",
   "execution_count": 18,
   "id": "0196b9fb",
   "metadata": {},
   "outputs": [
    {
     "data": {
      "image/png": "[encoded data removed]",
      "text/plain": [
       "<Figure size 1000x600 with 1 Axes>"
      ]
     },
     "metadata": {},
     "output_type": "display_data"
    }
   ],
   "source": [
    "# creating histogram Distribution of House-Price for checking outliers and skewness \n",
    "plt.figure(figsize=(10, 6))\n",
    "sns.histplot(data[\"price\"], kde=True, bins=30, color='skyblue')\n",
    "plt.title(\"distribution of house prices\")\n",
    "plt.xlabel(\"price\")\n",
    "plt.ylabel(\"frequency\")\n",
    "plt.tight_layout()\n",
    "plt.show()"
   ]
  },
  {
   "cell_type": "markdown",
   "id": "47dc8232",
   "metadata": {},
   "source": [
    "### *`House Price Distribution`*\n",
    "\n",
    "* The histogram shows that most houses are priced between `₹30 lakhs to ₹60 lakhs.` \n",
    "\n",
    "* The distribution is `right-skewed`, meaning there are a few very high-priced houses pushing the tail. \n",
    "\n",
    "* This implies that while affordable housing dominates, there are luxury properties too.\n"
   ]
  },
  {
   "cell_type": "code",
   "execution_count": 19,
   "id": "9653d59f",
   "metadata": {},
   "outputs": [
    {
     "ename": "ValueError",
     "evalue": "List of boxplot statistics and `positions` values must have same the length",
     "output_type": "error",
     "traceback": [
      "\u001b[31m---------------------------------------------------------------------------\u001b[39m",
      "\u001b[31mValueError\u001b[39m                                Traceback (most recent call last)",
      "\u001b[36mCell\u001b[39m\u001b[36m \u001b[39m\u001b[32mIn[19]\u001b[39m\u001b[32m, line 5\u001b[39m\n\u001b[32m      3\u001b[39m \u001b[38;5;28;01mfor\u001b[39;00m columns \u001b[38;5;129;01min\u001b[39;00m categorical_columns:\n\u001b[32m      4\u001b[39m     plt.figure(figsize=(\u001b[32m6\u001b[39m, \u001b[32m4\u001b[39m))\n\u001b[32m----> \u001b[39m\u001b[32m5\u001b[39m     \u001b[43msns\u001b[49m\u001b[43m.\u001b[49m\u001b[43mboxplot\u001b[49m\u001b[43m(\u001b[49m\u001b[43mx\u001b[49m\u001b[43m=\u001b[49m\u001b[43mcolumns\u001b[49m\u001b[43m,\u001b[49m\u001b[43m \u001b[49m\u001b[43my\u001b[49m\u001b[43m=\u001b[49m\u001b[33;43m'\u001b[39;49m\u001b[33;43mprice\u001b[39;49m\u001b[33;43m'\u001b[39;49m\u001b[43m,\u001b[49m\u001b[43m \u001b[49m\u001b[43mdata\u001b[49m\u001b[43m=\u001b[49m\u001b[43mdata\u001b[49m\u001b[43m)\u001b[49m\n\u001b[32m      6\u001b[39m     plt.title(\u001b[33mf\u001b[39m\u001b[33m'\u001b[39m\u001b[33mBoxplot of Price vs \u001b[39m\u001b[38;5;132;01m{\u001b[39;00mcolumns\u001b[38;5;132;01m}\u001b[39;00m\u001b[33m'\u001b[39m)\n\u001b[32m      7\u001b[39m     plt.xlabel(columns)\n",
      "\u001b[36mFile \u001b[39m\u001b[32m~/House-price-prediction/.venv/lib/python3.12/site-packages/seaborn/categorical.py:1634\u001b[39m, in \u001b[36mboxplot\u001b[39m\u001b[34m(data, x, y, hue, order, hue_order, orient, color, palette, saturation, fill, dodge, width, gap, whis, linecolor, linewidth, fliersize, hue_norm, native_scale, log_scale, formatter, legend, ax, **kwargs)\u001b[39m\n\u001b[32m   1627\u001b[39m color = _default_color(\n\u001b[32m   1628\u001b[39m     ax.fill_between, hue, color,\n\u001b[32m   1629\u001b[39m     {k: v \u001b[38;5;28;01mfor\u001b[39;00m k, v \u001b[38;5;129;01min\u001b[39;00m kwargs.items() \u001b[38;5;28;01mif\u001b[39;00m k \u001b[38;5;129;01min\u001b[39;00m [\u001b[33m\"\u001b[39m\u001b[33mc\u001b[39m\u001b[33m\"\u001b[39m, \u001b[33m\"\u001b[39m\u001b[33mcolor\u001b[39m\u001b[33m\"\u001b[39m, \u001b[33m\"\u001b[39m\u001b[33mfc\u001b[39m\u001b[33m\"\u001b[39m, \u001b[33m\"\u001b[39m\u001b[33mfacecolor\u001b[39m\u001b[33m\"\u001b[39m]},\n\u001b[32m   1630\u001b[39m     saturation=saturation,\n\u001b[32m   1631\u001b[39m )\n\u001b[32m   1632\u001b[39m linecolor = p._complement_color(linecolor, color, p._hue_map)\n\u001b[32m-> \u001b[39m\u001b[32m1634\u001b[39m \u001b[43mp\u001b[49m\u001b[43m.\u001b[49m\u001b[43mplot_boxes\u001b[49m\u001b[43m(\u001b[49m\n\u001b[32m   1635\u001b[39m \u001b[43m    \u001b[49m\u001b[43mwidth\u001b[49m\u001b[43m=\u001b[49m\u001b[43mwidth\u001b[49m\u001b[43m,\u001b[49m\n\u001b[32m   1636\u001b[39m \u001b[43m    \u001b[49m\u001b[43mdodge\u001b[49m\u001b[43m=\u001b[49m\u001b[43mdodge\u001b[49m\u001b[43m,\u001b[49m\n\u001b[32m   1637\u001b[39m \u001b[43m    \u001b[49m\u001b[43mgap\u001b[49m\u001b[43m=\u001b[49m\u001b[43mgap\u001b[49m\u001b[43m,\u001b[49m\n\u001b[32m   1638\u001b[39m \u001b[43m    \u001b[49m\u001b[43mfill\u001b[49m\u001b[43m=\u001b[49m\u001b[43mfill\u001b[49m\u001b[43m,\u001b[49m\n\u001b[32m   1639\u001b[39m \u001b[43m    \u001b[49m\u001b[43mwhis\u001b[49m\u001b[43m=\u001b[49m\u001b[43mwhis\u001b[49m\u001b[43m,\u001b[49m\n\u001b[32m   1640\u001b[39m \u001b[43m    \u001b[49m\u001b[43mcolor\u001b[49m\u001b[43m=\u001b[49m\u001b[43mcolor\u001b[49m\u001b[43m,\u001b[49m\n\u001b[32m   1641\u001b[39m \u001b[43m    \u001b[49m\u001b[43mlinecolor\u001b[49m\u001b[43m=\u001b[49m\u001b[43mlinecolor\u001b[49m\u001b[43m,\u001b[49m\n\u001b[32m   1642\u001b[39m \u001b[43m    \u001b[49m\u001b[43mlinewidth\u001b[49m\u001b[43m=\u001b[49m\u001b[43mlinewidth\u001b[49m\u001b[43m,\u001b[49m\n\u001b[32m   1643\u001b[39m \u001b[43m    \u001b[49m\u001b[43mfliersize\u001b[49m\u001b[43m=\u001b[49m\u001b[43mfliersize\u001b[49m\u001b[43m,\u001b[49m\n\u001b[32m   1644\u001b[39m \u001b[43m    \u001b[49m\u001b[43mplot_kws\u001b[49m\u001b[43m=\u001b[49m\u001b[43mkwargs\u001b[49m\u001b[43m,\u001b[49m\n\u001b[32m   1645\u001b[39m \u001b[43m\u001b[49m\u001b[43m)\u001b[49m\n\u001b[32m   1647\u001b[39m p._add_axis_labels(ax)\n\u001b[32m   1648\u001b[39m p._adjust_cat_axis(ax, axis=p.orient)\n",
      "\u001b[36mFile \u001b[39m\u001b[32m~/House-price-prediction/.venv/lib/python3.12/site-packages/seaborn/categorical.py:700\u001b[39m, in \u001b[36m_CategoricalPlotter.plot_boxes\u001b[39m\u001b[34m(self, width, dodge, gap, fill, whis, color, linecolor, linewidth, fliersize, plot_kws)\u001b[39m\n\u001b[32m    679\u001b[39m default_kws = \u001b[38;5;28mdict\u001b[39m(\n\u001b[32m    680\u001b[39m     bxpstats=stats.to_dict(\u001b[33m\"\u001b[39m\u001b[33mrecords\u001b[39m\u001b[33m\"\u001b[39m),\n\u001b[32m    681\u001b[39m     positions=data[\u001b[38;5;28mself\u001b[39m.orient],\n\u001b[32m   (...)\u001b[39m\u001b[32m    697\u001b[39m     )\n\u001b[32m    698\u001b[39m )\n\u001b[32m    699\u001b[39m boxplot_kws = {**default_kws, **plot_kws}\n\u001b[32m--> \u001b[39m\u001b[32m700\u001b[39m artists = \u001b[43max\u001b[49m\u001b[43m.\u001b[49m\u001b[43mbxp\u001b[49m\u001b[43m(\u001b[49m\u001b[43m*\u001b[49m\u001b[43m*\u001b[49m\u001b[43mboxplot_kws\u001b[49m\u001b[43m)\u001b[49m\n\u001b[32m    702\u001b[39m \u001b[38;5;66;03m# Reset artist widths after adding so everything stays positive\u001b[39;00m\n\u001b[32m    703\u001b[39m ori_idx = [\u001b[33m\"\u001b[39m\u001b[33mx\u001b[39m\u001b[33m\"\u001b[39m, \u001b[33m\"\u001b[39m\u001b[33my\u001b[39m\u001b[33m\"\u001b[39m].index(\u001b[38;5;28mself\u001b[39m.orient)\n",
      "\u001b[36mFile \u001b[39m\u001b[32m~/House-price-prediction/.venv/lib/python3.12/site-packages/matplotlib/_api/deprecation.py:453\u001b[39m, in \u001b[36mmake_keyword_only.<locals>.wrapper\u001b[39m\u001b[34m(*args, **kwargs)\u001b[39m\n\u001b[32m    447\u001b[39m \u001b[38;5;28;01mif\u001b[39;00m \u001b[38;5;28mlen\u001b[39m(args) > name_idx:\n\u001b[32m    448\u001b[39m     warn_deprecated(\n\u001b[32m    449\u001b[39m         since, message=\u001b[33m\"\u001b[39m\u001b[33mPassing the \u001b[39m\u001b[38;5;132;01m%(name)s\u001b[39;00m\u001b[33m \u001b[39m\u001b[38;5;132;01m%(obj_type)s\u001b[39;00m\u001b[33m \u001b[39m\u001b[33m\"\u001b[39m\n\u001b[32m    450\u001b[39m         \u001b[33m\"\u001b[39m\u001b[33mpositionally is deprecated since Matplotlib \u001b[39m\u001b[38;5;132;01m%(since)s\u001b[39;00m\u001b[33m; the \u001b[39m\u001b[33m\"\u001b[39m\n\u001b[32m    451\u001b[39m         \u001b[33m\"\u001b[39m\u001b[33mparameter will become keyword-only in \u001b[39m\u001b[38;5;132;01m%(removal)s\u001b[39;00m\u001b[33m.\u001b[39m\u001b[33m\"\u001b[39m,\n\u001b[32m    452\u001b[39m         name=name, obj_type=\u001b[33mf\u001b[39m\u001b[33m\"\u001b[39m\u001b[33mparameter of \u001b[39m\u001b[38;5;132;01m{\u001b[39;00mfunc.\u001b[34m__name__\u001b[39m\u001b[38;5;132;01m}\u001b[39;00m\u001b[33m()\u001b[39m\u001b[33m\"\u001b[39m)\n\u001b[32m--> \u001b[39m\u001b[32m453\u001b[39m \u001b[38;5;28;01mreturn\u001b[39;00m \u001b[43mfunc\u001b[49m\u001b[43m(\u001b[49m\u001b[43m*\u001b[49m\u001b[43margs\u001b[49m\u001b[43m,\u001b[49m\u001b[43m \u001b[49m\u001b[43m*\u001b[49m\u001b[43m*\u001b[49m\u001b[43mkwargs\u001b[49m\u001b[43m)\u001b[49m\n",
      "\u001b[36mFile \u001b[39m\u001b[32m~/House-price-prediction/.venv/lib/python3.12/site-packages/matplotlib/axes/_axes.py:4482\u001b[39m, in \u001b[36mAxes.bxp\u001b[39m\u001b[34m(self, bxpstats, positions, widths, vert, orientation, patch_artist, shownotches, showmeans, showcaps, showbox, showfliers, boxprops, whiskerprops, flierprops, medianprops, capprops, meanprops, meanline, manage_ticks, zorder, capwidths, label)\u001b[39m\n\u001b[32m   4480\u001b[39m     positions = \u001b[38;5;28mlist\u001b[39m(\u001b[38;5;28mrange\u001b[39m(\u001b[32m1\u001b[39m, N + \u001b[32m1\u001b[39m))\n\u001b[32m   4481\u001b[39m \u001b[38;5;28;01melif\u001b[39;00m \u001b[38;5;28mlen\u001b[39m(positions) != N:\n\u001b[32m-> \u001b[39m\u001b[32m4482\u001b[39m     \u001b[38;5;28;01mraise\u001b[39;00m \u001b[38;5;167;01mValueError\u001b[39;00m(datashape_message.format(\u001b[33m\"\u001b[39m\u001b[33mpositions\u001b[39m\u001b[33m\"\u001b[39m))\n\u001b[32m   4484\u001b[39m positions = np.array(positions)\n\u001b[32m   4485\u001b[39m \u001b[38;5;28;01mif\u001b[39;00m \u001b[38;5;28mlen\u001b[39m(positions) > \u001b[32m0\u001b[39m \u001b[38;5;129;01mand\u001b[39;00m \u001b[38;5;129;01mnot\u001b[39;00m \u001b[38;5;28mall\u001b[39m(\u001b[38;5;28misinstance\u001b[39m(p, Real) \u001b[38;5;28;01mfor\u001b[39;00m p \u001b[38;5;129;01min\u001b[39;00m positions):\n",
      "\u001b[31mValueError\u001b[39m: List of boxplot statistics and `positions` values must have same the length"
     ]
    },
    {
     "data": {
      "image/png": "[encoded data removed]",
      "text/plain": [
       "<Figure size 600x400 with 1 Axes>"
      ]
     },
     "metadata": {},
     "output_type": "display_data"
    }
   ],
   "source": [
    "#creating boxplot of categorical columns to do comparision with price \n",
    "categorical_columns = ['airconditioning', 'mainroad', 'basement', 'guestroom', 'hotwaterheating', 'furnishingstatus']\n",
    "for columns in categorical_columns:\n",
    "    plt.figure(figsize=(6, 4))\n",
    "    sns.boxplot(x=columns, y='price', data=data)\n",
    "    plt.title(f'Boxplot of Price vs {columns}')\n",
    "    plt.xlabel(columns)\n",
    "    plt.ylabel('Price')\n",
    "    plt.show()"
   ]
  },
  {
   "cell_type": "markdown",
   "id": "46bd0df8",
   "metadata": {},
   "source": [
    "*The above boxplots show that houses with `air-conditioning`, access to the `main road`, and a `guestroom` tend to have higher median prices than those without. The presence of a `basement` shows only a slight price difference. `Hot water` heating appears to increase median price marginally, while the `furnishing-status` clearly impacts price — `fully-furnished houses` (label 2) have higher price ranges compared to `semi- or unfurnished` ones. so, these features contribute differently to house pricing, but `air-conditioning` and `furnishing-status` showing stronger influence.*\n"
   ]
  },
  {
   "cell_type": "code",
   "execution_count": null,
   "id": "9972ec37",
   "metadata": {},
   "outputs": [],
   "source": [
    "#creating pairplot graph of high correlation feature with price show linearity and non-linearity ofn correlated fetures\n",
    "selected_features = ['price', 'area', 'bathrooms', 'airconditioning', 'stories']\n",
    "sns.pairplot(data[selected_features])\n",
    "plt.suptitle('Pairplot of high Correlated Features with Price', y=1.02, fontsize=14)\n",
    "plt.show()"
   ]
  },
  {
   "cell_type": "markdown",
   "id": "a79540f9",
   "metadata": {},
   "source": [
    "*The above pairplot reveals that house price is positively correlated with `area`, indicating that larger properties tend to cost more. `Bathrooms` and number of `stories` also show a moderate upward trend with `price`. `Air-conditioning` appears as a binary factor but aligns more with `higher price` clusters. So the conclusion is the `area` shows the strongest `linear relationship` with price among the selected features.*\n"
   ]
  },
  {
   "cell_type": "code",
   "execution_count": null,
   "id": "7ec078bf",
   "metadata": {},
   "outputs": [],
   "source": [
    "#creating barplot in the comparision b/w mainroad and price \n",
    "plt.figure(figsize=(4, 4))\n",
    "sns.barplot(x='mainroad', y='price', data=data)\n",
    "plt.xticks([0, 1], ['not on mainroad', 'on mainroad'])\n",
    "plt.title(\"price by mainroad\")\n",
    "plt.ylabel(\"price\")\n",
    "plt.xlabel(\"mainroad\")\n",
    "plt.tight_layout()\n",
    "plt.show()"
   ]
  },
  {
   "cell_type": "markdown",
   "id": "d4c961a4",
   "metadata": {},
   "source": [
    "*The above bar-plot shows that houses located on the `main road` have significantly higher average `prices` than those that are not. This suggests that main road access positively influences property value, likely due to better connectivity and convenience.*\n"
   ]
  },
  {
   "cell_type": "code",
   "execution_count": null,
   "id": "779c054a",
   "metadata": {},
   "outputs": [],
   "source": [
    "plt.figure(figsize=(8, 5))\n",
    "sns.countplot(x='bedrooms', data=data, hue='bedrooms', palette='pastel', legend=False)\n",
    "plt.title('Number of Bedrooms in Houses')\n",
    "plt.xlabel('Bedrooms')\n",
    "plt.ylabel('Count')\n",
    "plt.show()"
   ]
  },
  {
   "cell_type": "markdown",
   "id": "75d85eb0",
   "metadata": {},
   "source": [
    "*The bar chart indicates that most houses have `3-bedrooms`, followed by those with `2 and 4 bedrooms`. Homes with `5 or more bedrooms` are rare. This suggests that `3-bedroom houses` are the most common and possibly the most preferred configuration in the dataset.*\n"
   ]
  },
  {
   "cell_type": "code",
   "execution_count": null,
   "id": "8511a2a3",
   "metadata": {},
   "outputs": [],
   "source": [
    "#scatter plot: area vs price\n",
    "plt.figure(figsize=(8, 6))\n",
    "sns.scatterplot(data=data, x='area', y='price', hue='furnishingstatus')\n",
    "plt.title(\"scatter plot of area vs price\")\n",
    "plt.xlabel(\"area\")\n",
    "plt.ylabel(\"price\")\n",
    "plt.legend(title=\"furnished\")\n",
    "plt.tight_layout()\n",
    "plt.show()"
   ]
  },
  {
   "cell_type": "markdown",
   "id": "68258d16",
   "metadata": {},
   "source": [
    "*The above scatter-plot shows a positive relationship between `area` and `price` — as `area increases, price generally rises`. Additionally, `fully-furnished homes` (category 2) tend to `cluster at higher prices`, It shows that furnishing level contributes to property value alongside area.*\n"
   ]
  },
  {
   "cell_type": "code",
   "execution_count": null,
   "id": "86420495",
   "metadata": {},
   "outputs": [],
   "source": [
    "#countplots for categorical columns\n",
    "categorical_features = ['mainroad', 'guestroom', 'basement', 'hotwaterheating', 'airconditioning', 'parking', 'prefarea', 'furnishingstatus']\n",
    "\n",
    "plt.figure(figsize=(18, 14))\n",
    "for i, col in enumerate(categorical_features, 1):\n",
    "    plt.subplot(3, 3, i)\n",
    "    sns.countplot(x=col, data=data)\n",
    "    plt.title(f\"countplot of {col}\")\n",
    "    plt.xlabel(col)\n",
    "    plt.ylabel(\"count\")\n",
    "    plt.tight_layout()\n",
    "\n",
    "plt.suptitle(\"categorical feature distributions\", fontsize=16)\n",
    "plt.subplots_adjust(top=0.93)\n",
    "plt.show()"
   ]
  },
  {
   "cell_type": "markdown",
   "id": "39e1d082",
   "metadata": {},
   "source": [
    "*The above distribution plots show that most houses are located on the `main road`, have no `guest-room` or `basement`, and lack `hot water heating`. A significant number have no `air-conditioning` or `parking`. And majority of them are `semi-furnished`, with `unfurnished` and `fully-furnished` homes being less common.*\n"
   ]
  }
 ],
 "metadata": {
  "kernelspec": {
   "display_name": ".venv",
   "language": "python",
   "name": "python3"
  },
  "language_info": {
   "codemirror_mode": {
    "name": "ipython",
    "version": 3
   },
   "file_extension": ".py",
   "mimetype": "text/x-python",
   "name": "python",
   "nbconvert_exporter": "python",
   "pygments_lexer": "ipython3",
   "version": "3.12.3"
  }
 },
 "nbformat": 4,
 "nbformat_minor": 5
}
