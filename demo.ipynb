{
 "cells": [
  {
   "cell_type": "code",
   "execution_count": null,
   "id": "e45bd7b7",
   "metadata": {},
   "outputs": [],
   "source": [
    "#importing libraries\n",
    "import pandas as pd\n",
    "import numpy as np\n",
    "import matplotlib.pyplot as plt\n",
    "import seaborn as sns "
   ]
  },
  {
   "cell_type": "code",
   "execution_count": null,
   "id": "fc22d813",
   "metadata": {},
   "outputs": [],
   "source": [
    "#loading dataset \n",
    "data = pd.read_csv(\"dataset/Housing.csv\")"
   ]
  },
  {
   "cell_type": "code",
   "execution_count": null,
   "id": "ee75cc0b",
   "metadata": {},
   "outputs": [],
   "source": [
    "#print 5 values from the dataset\n",
    "data.head(5)"
   ]
  },
  {
   "cell_type": "code",
   "execution_count": null,
   "id": "60f9d7f8",
   "metadata": {},
   "outputs": [],
   "source": [
    "#checking null value in the dataset \n",
    "data.isnull().sum()"
   ]
  },
  {
   "cell_type": "code",
   "execution_count": null,
   "id": "17634f8d",
   "metadata": {},
   "outputs": [],
   "source": [
    "#checking duplicate value in the dataset\n",
    "data.duplicated()"
   ]
  },
  {
   "cell_type": "code",
   "execution_count": null,
   "id": "d4cca1e9",
   "metadata": {},
   "outputs": [],
   "source": [
    "#print all unique value in each column of the dataset\n",
    "for single_column in data.columns:\n",
    "    print(\"unique value in {} are: {}\".format(single_column,data[single_column].unique()))"
   ]
  },
  {
   "cell_type": "code",
   "execution_count": null,
   "id": "6544ac71",
   "metadata": {},
   "outputs": [],
   "source": [
    "#print the name of columns which have values in the form of \"yes\" or \"no\"\n",
    "columns_name = data.columns[data.isin(['yes', 'no']).any()]\n",
    "print(columns_name)"
   ]
  },
  {
   "cell_type": "code",
   "execution_count": null,
   "id": "2595da77",
   "metadata": {},
   "outputs": [],
   "source": [
    "#converting \"yes\" or \"no\" values into \"0\" or \"1\"\n",
    "for single_columns in columns_name:\n",
    "    data[single_columns] = data[single_columns].replace({'yes': 1, 'no': 0},inplace=True)"
   ]
  },
  {
   "cell_type": "code",
   "execution_count": null,
   "id": "f8fb886b",
   "metadata": {},
   "outputs": [],
   "source": [
    "# convert string vlaue in \"furnishingstatus\" column in numerical \"0\", \"1\", \"2\"\n",
    "data['furnishingstatus'] = data['furnishingstatus'].replace({'furnished': 2,'semi-furnished': 1,'unfurnished': 0,},inplace=True)"
   ]
  },
  {
   "cell_type": "code",
   "execution_count": null,
   "id": "e5de667a",
   "metadata": {},
   "outputs": [],
   "source": [
    "data.head(5)"
   ]
  },
  {
   "cell_type": "code",
   "execution_count": null,
   "id": "6b304843",
   "metadata": {},
   "outputs": [],
   "source": [
    "#copying data to safe the real data\n",
    "copied_data = data.copy()"
   ]
  },
  {
   "cell_type": "code",
   "execution_count": null,
   "id": "42f67ca4",
   "metadata": {},
   "outputs": [],
   "source": [
    "mean_value = copied_data.mean() #calculate mean of copied data\n",
    "standard_deviation = copied_data.std() #claculate standard_deviation of copied data"
   ]
  },
  {
   "cell_type": "code",
   "execution_count": null,
   "id": "0a7714b0",
   "metadata": {},
   "outputs": [],
   "source": [
    "# Z_score formula = z = (data - mean value of data) / standard_deviation value of data\n",
    "# claculate Z_score for each column\n",
    "z_score = (copied_data - mean_value) / standard_deviation\n",
    "print(z_score)"
   ]
  },
  {
   "cell_type": "code",
   "execution_count": null,
   "id": "4be44bd3",
   "metadata": {},
   "outputs": [],
   "source": [
    "# critical range lies between \"-1.96\" to \"+1.96\" \n",
    "\n",
    "#checking Z_score value lies between critical_range to check outlier\n",
    "critical_range = ((z_score >= -1.96) & (z_score <= 1.96))\n",
    "\n",
    "#convert checking values into percentage \n",
    "percentage = critical_range.mean() * 100\n",
    "print(\"Percentage of values within [-1.96, 1.96] for each column:\")\n",
    "\n",
    "#print percentage value in ascending\n",
    "print(percentage.sort_values(ascending=False).round(2))"
   ]
  },
  {
   "cell_type": "markdown",
   "id": "04cc368a",
   "metadata": {},
   "source": [
    "### *`Z-Score Outlier Table Explained`*\n",
    "\n",
    "1. **`basement` – 100% within range**\n",
    "   → All values are within the normal Z-score range. No outliers detected.\n",
    "\n",
    "2. **`airconditioning` – 100% within range**\n",
    "   → Data is consistent. Every entry falls within expected boundaries.\n",
    "\n",
    "3. **`prefarea` – 100% within range**\n",
    "   → No unusual variation. Perfectly distributed data.\n",
    "\n",
    "4. **`furnishingstatus` – 100% within range**\n",
    "   → Uniform data distribution. No signs of outliers.\n",
    "\n",
    "5. **`bathrooms` – 97.98% within range**\n",
    "   → A small number of outliers (\\~2%), possibly due to homes with more/fewer bathrooms than average.\n",
    "\n",
    "6. **`parking` – 97.80% within range**\n",
    "   → A few homes have more or fewer parking spaces than most, but still acceptable.\n",
    "\n",
    "7. **`bedrooms` – 97.43% within range**\n",
    "   → Slight deviation, indicating rare cases like unusually large or small homes.\n",
    "\n",
    "8. **`area` – 95.60% within range**\n",
    "   → Some outliers, likely due to significantly large property areas.\n",
    "\n",
    "9. **`hotwaterheating` – 95.41% within range**\n",
    "   → Few entries deviate from the norm, but not concerning.\n",
    "\n",
    "10. **`price` – 95.05% within range**\n",
    "    → A few high or low-priced houses are considered outliers but may still be valid.\n",
    "\n",
    "11. **`stories` – 92.48% within range**\n",
    "    → Moderate variation in the number of floors; some buildings have uncommon story counts.\n",
    "\n",
    "12. **`mainroad` – 85.87% within range**\n",
    "    → Slightly higher number of outliers; could reflect unusual access types.\n",
    "\n",
    "13. **`guestroom` – 82.20% within range**\n",
    "    → Highest outlier rate (\\~18%). Might indicate that most homes either have or lack guest rooms, making the minority appear as outliers.\n",
    "\n",
    "### *`Why Outlier Removal or Replace Is Not Needed`*\n",
    "\n",
    "* Most columns have **95%+ values within the normal Z-score range**, showing data is largely well-behaved.\n",
    "* Columns with slightly more outliers (e.g., `guestroom`, `mainroad`, `stories`) represent **real-world categorical or rare conditions**, not data errors.\n",
    "* Outliers reflect **genuine property diversity** (e.g., large area, extra stories, premium price).\n",
    "* Removing them could lead to **loss of important variation** and **reduced model performance**."
   ]
  },
  {
   "cell_type": "code",
   "execution_count": null,
   "id": "926488c3",
   "metadata": {},
   "outputs": [],
   "source": [
    "sns.set(style=\"whitegrid\")"
   ]
  },
  {
   "cell_type": "code",
   "execution_count": null,
   "id": "66434d9c",
   "metadata": {},
   "outputs": [],
   "source": [
    "#ploting pearson correlation matrix heatmap\n",
    "data_corr = data.corr(numeric_only=True)\n",
    "plt.figure(figsize=(10, 8))\n",
    "sns.heatmap(data_corr, annot=True, cmap=\"coolwarm\", linewidths=0.5)\n",
    "plt.title(\"correlation heatmap\")\n",
    "plt.tight_layout()\n",
    "plt.show()"
   ]
  },
  {
   "cell_type": "markdown",
   "id": "112d8b26",
   "metadata": {},
   "source": [
    "### *`Correlation Heatmap`*\n",
    "\n",
    "* `Area`, `bathrooms`, `bedrooms`, and `stories` have the strongest positive correlation with price.\n",
    "\n",
    "* Features like `hotwaterheating` show a slight negative correlation, suggesting they don’t contribute much to pricing.\n",
    "\n",
    "* `Furnishing status` has a low to moderate correlation (~0.30), but it still holds some influence.\n",
    "\n",
    "* This heatmap helps us understand which features might be more useful in predictive modeling."
   ]
  },
  {
   "cell_type": "code",
   "execution_count": null,
   "id": "6afed9ff",
   "metadata": {},
   "outputs": [],
   "source": [
    "#print column name which has vlaue more than 0.3 in correlation matrix excluding price \n",
    "target_corr = data_corr['price'].drop('price')\n",
    "selected = target_corr[(target_corr) > 0.30].index\n",
    "print(\"selected columns from correlation heatmap:\")\n",
    "print(selected.sort_values(ascending=False))"
   ]
  },
  {
   "cell_type": "code",
   "execution_count": null,
   "id": "0196b9fb",
   "metadata": {},
   "outputs": [],
   "source": [
    "# creating histogram Distribution of House-Price for checking outliers and skewness \n",
    "plt.figure(figsize=(10, 6))\n",
    "sns.histplot(data[\"price\"], kde=True, bins=30, color='skyblue')\n",
    "plt.title(\"distribution of house prices\")\n",
    "plt.xlabel(\"price\")\n",
    "plt.ylabel(\"frequency\")\n",
    "plt.tight_layout()\n",
    "plt.show()"
   ]
  },
  {
   "cell_type": "markdown",
   "id": "47dc8232",
   "metadata": {},
   "source": [
    "### *`House Price Distribution`*\n",
    "\n",
    "* The histogram shows that most houses are priced between `₹30 lakhs to ₹60 lakhs.` \n",
    "\n",
    "* The distribution is `right-skewed`, meaning there are a few very high-priced houses pushing the tail. \n",
    "\n",
    "* This implies that while affordable housing dominates, there are luxury properties too.\n"
   ]
  },
  {
   "cell_type": "code",
   "execution_count": null,
   "id": "9653d59f",
   "metadata": {},
   "outputs": [],
   "source": [
    "#creating boxplot of categorical columns to do comparision with price \n",
    "categorical_columns = ['airconditioning', 'mainroad', 'basement', 'guestroom', 'hotwaterheating', 'furnishingstatus']\n",
    "for columns in categorical_columns:\n",
    "    plt.figure(figsize=(6, 4))\n",
    "    sns.boxplot(x=columns, y='price', data=data)\n",
    "    plt.title(f'Boxplot of Price vs {columns}')\n",
    "    plt.xlabel(columns)\n",
    "    plt.ylabel('Price')\n",
    "    plt.show()"
   ]
  },
  {
   "cell_type": "markdown",
   "id": "46bd0df8",
   "metadata": {},
   "source": [
    "*The above boxplots show that houses with `air-conditioning`, access to the `main road`, and a `guestroom` tend to have higher median prices than those without. The presence of a `basement` shows only a slight price difference. `Hot water` heating appears to increase median price marginally, while the `furnishing-status` clearly impacts price — `fully-furnished houses` (label 2) have higher price ranges compared to `semi- or unfurnished` ones. so, these features contribute differently to house pricing, but `air-conditioning` and `furnishing-status` showing stronger influence.*\n"
   ]
  },
  {
   "cell_type": "code",
   "execution_count": null,
   "id": "9972ec37",
   "metadata": {},
   "outputs": [],
   "source": [
    "#creating pairplot graph of high correlation feature with price show linearity and non-linearity ofn correlated fetures\n",
    "selected_features = ['price', 'area', 'bathrooms', 'airconditioning', 'stories']\n",
    "sns.pairplot(data[selected_features])\n",
    "plt.suptitle('Pairplot of high Correlated Features with Price', y=1.02, fontsize=14)\n",
    "plt.show()"
   ]
  },
  {
   "cell_type": "markdown",
   "id": "a79540f9",
   "metadata": {},
   "source": [
    "*The above pairplot reveals that house price is positively correlated with `area`, indicating that larger properties tend to cost more. `Bathrooms` and number of `stories` also show a moderate upward trend with `price`. `Air-conditioning` appears as a binary factor but aligns more with `higher price` clusters. So the conclusion is the `area` shows the strongest `linear relationship` with price among the selected features.*\n"
   ]
  },
  {
   "cell_type": "code",
   "execution_count": null,
   "id": "7ec078bf",
   "metadata": {},
   "outputs": [],
   "source": [
    "#creating barplot in the comparision b/w mainroad and price \n",
    "plt.figure(figsize=(4, 4))\n",
    "sns.barplot(x='mainroad', y='price', data=data)\n",
    "plt.xticks([0, 1], ['not on mainroad', 'on mainroad'])\n",
    "plt.title(\"price by mainroad\")\n",
    "plt.ylabel(\"price\")\n",
    "plt.xlabel(\"mainroad\")\n",
    "plt.tight_layout()\n",
    "plt.show()"
   ]
  },
  {
   "cell_type": "markdown",
   "id": "d4c961a4",
   "metadata": {},
   "source": [
    "*The above bar-plot shows that houses located on the `main road` have significantly higher average `prices` than those that are not. This suggests that main road access positively influences property value, likely due to better connectivity and convenience.*\n"
   ]
  },
  {
   "cell_type": "code",
   "execution_count": null,
   "id": "779c054a",
   "metadata": {},
   "outputs": [],
   "source": [
    "plt.figure(figsize=(8, 5))\n",
    "sns.countplot(x='bedrooms', data=data, hue='bedrooms', palette='pastel', legend=False)\n",
    "plt.title('Number of Bedrooms in Houses')\n",
    "plt.xlabel('Bedrooms')\n",
    "plt.ylabel('Count')\n",
    "plt.show()"
   ]
  },
  {
   "cell_type": "markdown",
   "id": "75d85eb0",
   "metadata": {},
   "source": [
    "*The bar chart indicates that most houses have `3-bedrooms`, followed by those with `2 and 4 bedrooms`. Homes with `5 or more bedrooms` are rare. This suggests that `3-bedroom houses` are the most common and possibly the most preferred configuration in the dataset.*\n"
   ]
  },
  {
   "cell_type": "code",
   "execution_count": null,
   "id": "8511a2a3",
   "metadata": {},
   "outputs": [],
   "source": [
    "#scatter plot: area vs price\n",
    "plt.figure(figsize=(8, 6))\n",
    "sns.scatterplot(data=data, x='area', y='price', hue='furnishingstatus')\n",
    "plt.title(\"scatter plot of area vs price\")\n",
    "plt.xlabel(\"area\")\n",
    "plt.ylabel(\"price\")\n",
    "plt.legend(title=\"furnished\")\n",
    "plt.tight_layout()\n",
    "plt.show()"
   ]
  },
  {
   "cell_type": "markdown",
   "id": "68258d16",
   "metadata": {},
   "source": [
    "*The above scatter-plot shows a positive relationship between `area` and `price` — as `area increases, price generally rises`. Additionally, `fully-furnished homes` (category 2) tend to `cluster at higher prices`, It shows that furnishing level contributes to property value alongside area.*\n"
   ]
  },
  {
   "cell_type": "code",
   "execution_count": null,
   "id": "86420495",
   "metadata": {},
   "outputs": [],
   "source": [
    "#countplots for categorical columns\n",
    "categorical_features = ['mainroad', 'guestroom', 'basement', 'hotwaterheating', 'airconditioning', 'parking', 'prefarea', 'furnishingstatus']\n",
    "\n",
    "plt.figure(figsize=(18, 14))\n",
    "for i, col in enumerate(categorical_features, 1):\n",
    "    plt.subplot(3, 3, i)\n",
    "    sns.countplot(x=col, data=data)\n",
    "    plt.title(f\"countplot of {col}\")\n",
    "    plt.xlabel(col)\n",
    "    plt.ylabel(\"count\")\n",
    "    plt.tight_layout()\n",
    "\n",
    "plt.suptitle(\"categorical feature distributions\", fontsize=16)\n",
    "plt.subplots_adjust(top=0.93)\n",
    "plt.show()"
   ]
  },
  {
   "cell_type": "markdown",
   "id": "39e1d082",
   "metadata": {},
   "source": [
    "*The above distribution plots show that most houses are located on the `main road`, have no `guest-room` or `basement`, and lack `hot water heating`. A significant number have no `air-conditioning` or `parking`. And majority of them are `semi-furnished`, with `unfurnished` and `fully-furnished` homes being less common.*\n"
   ]
  }
 ],
 "metadata": {
  "kernelspec": {
   "display_name": ".venv",
   "language": "python",
   "name": "python3"
  },
  "language_info": {
   "codemirror_mode": {
    "name": "ipython",
    "version": 3
   },
   "file_extension": ".py",
   "mimetype": "text/x-python",
   "name": "python",
   "nbconvert_exporter": "python",
   "pygments_lexer": "ipython3",
   "version": "3.12.3"
  }
 },
 "nbformat": 4,
 "nbformat_minor": 5
}
